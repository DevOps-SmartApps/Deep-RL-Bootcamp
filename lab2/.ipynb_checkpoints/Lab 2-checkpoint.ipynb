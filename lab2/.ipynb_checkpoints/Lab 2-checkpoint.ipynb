{
 "cells": [
  {
   "cell_type": "code",
   "execution_count": 1,
   "metadata": {},
   "outputs": [],
   "source": [
    "\"\"\"\n",
    "This project was developed by Peter Chen, Rocky Duan, Pieter Abbeel for the Berkeley Deep RL Bootcamp, August 2017.\n",
    "Bootcamp website with slides and lecture videos: https://sites.google.com/view/deep-rl-bootcamp/.\n",
    "\n",
    "Code adapted from Stanford CS231N materials: http://cs231n.stanford.edu/\n",
    "\"\"\"\n",
    "\n",
    "\n",
    "# note to properly run this lab, you should execute all code blocks sequentially\n",
    "import chainer\n",
    "import chainer.functions as F\n",
    "import chainer.links as L\n",
    "from chainer import training\n",
    "from chainer.training import extensions\n",
    "\n",
    "from collections import namedtuple, defaultdict, deque\n",
    "\n",
    "import numpy as np\n",
    "\n",
    "%matplotlib inline\n",
    "\n",
    "import matplotlib\n",
    "import matplotlib.pyplot as plt"
   ]
  },
  {
   "cell_type": "markdown",
   "metadata": {},
   "source": [
    "## Introduction to Chainer\n",
    "\n",
    "Chainer can be understood as Numpy plus the ability to record the computation graph of numerical operations to enable Automatic Differentiation. (Chainer actually also offers many other things; for example, a Numpy equivalent library that runs on GPU, but we will ignore them for now)"
   ]
  },
  {
   "cell_type": "markdown",
   "metadata": {},
   "source": [
    "Let's illustrate how Chainer works by a simple 1D regression task.\n",
    "\n",
    "Suppose we have observations from the following model $y = w x + b + \\epsilon$ where $\\epsilon \\sim \\mathcal{N}(0, 0.1)$ and the task is to estimate the linear model parameters $w, b$ from data."
   ]
  },
  {
   "cell_type": "code",
   "execution_count": 2,
   "metadata": {},
   "outputs": [
    {
     "data": {
      "image/png": "[encoded data removed]",
      "text/plain": [
       "<matplotlib.figure.Figure at 0x7fd99db467f0>"
      ]
     },
     "metadata": {},
     "output_type": "display_data"
    }
   ],
   "source": [
    "# first generate some observations\n",
    "true_a = 1.3\n",
    "true_b = 0.4\n",
    "data_x = (np.arange(100) / 99.0 - .5).astype(np.float32) # Chainer assumes all the cpu computation is done in float32\n",
    "data_y = (data_x * true_a + true_b + np.random.randn(*data_x.shape) * 0.1).astype(np.float32)\n",
    "_ = plt.scatter(data_x, data_y, c='b')"
   ]
  },
  {
   "cell_type": "markdown",
   "metadata": {},
   "source": [
    "Chainer provides an abstraction called `Link` that describe some computation and keeps track of parameters for it. For instance, a `Linear` link describes a linear map on input and keeps track of `w` and bias `b`."
   ]
  },
  {
   "cell_type": "code",
   "execution_count": 3,
   "metadata": {},
   "outputs": [
    {
     "name": "stdout",
     "output_type": "stream",
     "text": [
      "w: variable W([[0.04441594]])\n",
      "b: variable b([0.])\n",
      "Operations on chainer.Variable: variable([[123.04442]]), type: <class 'chainer.variable.Variable'>\n",
      "numpy arrays: [[0.04441594]] [[123.04442]]\n"
     ]
    }
   ],
   "source": [
    "model = L.Linear(in_size=1, out_size=1) # input is 1D data and output is also 1D data\n",
    "\n",
    "# Chainer will randomly initialize `w` and `b` for us.\n",
    "# we can take a look at their values\n",
    "print(\"w:\", model.W)\n",
    "print(\"b:\", model.b)\n",
    "\n",
    "# model.W and model.b have type `chainer.Variable`, \n",
    "#   which is a wrapper around Numpy array\n",
    "assert isinstance(model.W, chainer.Variable)\n",
    "\n",
    "# operations that involve `chainer.Variable` will produce\n",
    "#   `chainer.Variable` and this records the computation graph\n",
    "var_result = model.W + 123 # some random computation\n",
    "print(\"Operations on chainer.Variable: %s, type: %s\" % (var_result, type(var_result)))\n",
    "\n",
    "# the underlying numpy array can be accessed by `data` attribute\n",
    "print(\"numpy arrays:\", model.W.data, var_result.data)"
   ]
  },
  {
   "cell_type": "code",
   "execution_count": 4,
   "metadata": {},
   "outputs": [
    {
     "data": {
      "image/png": "[encoded data removed]",
      "text/plain": [
       "<matplotlib.figure.Figure at 0x7fd99db460f0>"
      ]
     },
     "metadata": {},
     "output_type": "display_data"
    }
   ],
   "source": [
    "# A chainer link is a callable object. calling it performs the\n",
    "#   forward computation. (in this case, it performs Wx + b)\n",
    "model_y = model(data_x[:, None]) # chainer's link usually assumes input is [Batch Size, Input Dimension]\n",
    "# `model_y` is a chainer variable so we use `.data` to access its numpy array for plotting\n",
    "\n",
    "# we can plot the model's current fit in red. it should be terrible because we haven't trained it yet\n",
    "_ = plt.plot(data_x, model_y.data[:,0], c='r')\n",
    "_ = plt.scatter(data_x, data_y, c='b')\n",
    "_ = plt.title(\"Initial model\")"
   ]
  },
  {
   "cell_type": "code",
   "execution_count": 8,
   "metadata": {},
   "outputs": [
    {
     "name": "stdout",
     "output_type": "stream",
     "text": [
      "loss variable(0.31448656)\n",
      "dloss/dW [[-0.22129962]]\n"
     ]
    }
   ],
   "source": [
    "# now let's walk through how to perform forward computation\n",
    "#  and use AD to get gradients\n",
    "\n",
    "# first we clear the gradients that are stored in the model\n",
    "model.cleargrads()\n",
    "# as we have seen we can perform forward computation by calling the link\n",
    "model_y = model(data_x[:, None])\n",
    "\n",
    "# remember that `model_y` is a chainer variable. to operate on chainer variable\n",
    "#    we will use functions from chainer.functions to operate on those objects.\n",
    "loss = F.mean(F.square(model_y - data_y[:, None]))\n",
    "# `loss` is a scalar chainer variable\n",
    "assert isinstance(loss, chainer.Variable)\n",
    "print(\"loss\", loss)\n",
    "# calculating gradients d loss /d params is as simple as\n",
    "loss.backward()\n",
    "\n",
    "# we can inspect the gradient of loss with respect to W\n",
    "print(\"dloss/dW\", model.W.grad)"
   ]
  },
  {
   "cell_type": "markdown",
   "metadata": {},
   "source": [
    "Now that we know how to calculate gradients, we can code up a simple loop to perform gradient descent to train this model:\n",
    "\n",
    "(Hint: if you run into weird problems, maybe the state has been messed up and you can try re-runing all the code blocks from the beginning)"
   ]
  },
  {
   "cell_type": "code",
   "execution_count": 13,
   "metadata": {},
   "outputs": [
    {
     "name": "stdout",
     "output_type": "stream",
     "text": [
      "Itr 0 loss: variable(0.23955154)\n",
      "Itr 25 loss: variable(0.03951331)\n",
      "Itr 50 loss: variable(0.02263856)\n",
      "Itr 75 loss: variable(0.01548073)\n"
     ]
    },
    {
     "data": {
      "image/png": "[encoded data removed]",
      "text/plain": [
       "<matplotlib.figure.Figure at 0x7fd99556fe10>"
      ]
     },
     "metadata": {},
     "output_type": "display_data"
    },
    {
     "data": {
      "image/png": "[encoded data removed]",
      "text/plain": [
       "<matplotlib.figure.Figure at 0x7fd9956100b8>"
      ]
     },
     "metadata": {},
     "output_type": "display_data"
    }
   ],
   "source": [
    "# now we can perform gradient descent to improve this model\n",
    "model = L.Linear(in_size=1, out_size=1)\n",
    "losses = []\n",
    "\n",
    "for i in range(100):\n",
    "    model.cleargrads()\n",
    "    loss = F.mean(F.square(model(data_x[:, None]) - data_y[:, None]))\n",
    "    losses.append(float(loss.data))\n",
    "    ## *** YOUR CODE HERE TO PERFORM GRADIENT DESCENT ***\n",
    "    ## Hint: you could access gradients with model.W.grad, model.b.grad\n",
    "    ## Hint2: you could write data into a parameter with model.W.data[:] = some_numpy_array\n",
    "    ## Hint3: if your model doesn't learn, remember to try different learning rates\n",
    "    loss.backward()\n",
    "    model.W.data[:] -= 0.1 * model.W.grad\n",
    "    model.b.data[:] -= 0.1 * model.b.grad\n",
    "    if i % 25 == 0:\n",
    "        print(\"Itr\", i, \"loss:\", loss)\n",
    "plt.plot(np.array(losses))\n",
    "plt.title(\"Learning curve\")\n",
    "plt.figure()\n",
    "plt.plot(data_x, model(data_x[:, None])[:,0].data, c='r')\n",
    "plt.scatter(data_x, data_y, c='b')\n",
    "_ = plt.title(\"Trained model fitness\")\n"
   ]
  },
  {
   "cell_type": "markdown",
   "metadata": {},
   "source": [
    "## Train your first deep model\n",
    "\n",
    "Now we have learned the basics of Chainer. We can use it to train a deep model to classify MNIST digits. We will train a model on the MNIST dataset because the dataset is small.\n",
    "\n",
    "First we load the data and see what the images look like:"
   ]
  },
  {
   "cell_type": "code",
   "execution_count": 14,
   "metadata": {
    "scrolled": false
   },
   "outputs": [
    {
     "name": "stderr",
     "output_type": "stream",
     "text": [
      "Downloading from http://yann.lecun.com/exdb/mnist/train-images-idx3-ubyte.gz...\n",
      "Downloading from http://yann.lecun.com/exdb/mnist/train-labels-idx1-ubyte.gz...\n",
      "Downloading from http://yann.lecun.com/exdb/mnist/t10k-images-idx3-ubyte.gz...\n",
      "Downloading from http://yann.lecun.com/exdb/mnist/t10k-labels-idx1-ubyte.gz...\n"
     ]
    },
    {
     "name": "stdout",
     "output_type": "stream",
     "text": [
      "train[i][0] is the ith image that's flattened, and has shape: (784,)\n",
      "train[i][1] is the ith image's label, such as: 3\n"
     ]
    },
    {
     "data": {
      "image/png": "[encoded data removed]",
      "text/plain": [
       "<matplotlib.figure.Figure at 0x7fd9ced10f98>"
      ]
     },
     "metadata": {},
     "output_type": "display_data"
    },
    {
     "data": {
      "image/png": "[encoded data removed]",
      "text/plain": [
       "<matplotlib.figure.Figure at 0x7fd995420048>"
      ]
     },
     "metadata": {},
     "output_type": "display_data"
    }
   ],
   "source": [
    "train, test = chainer.datasets.get_mnist()\n",
    "# use train[data_point_index] to access data\n",
    "print(\"train[i][0] is the ith image that's flattened, and has shape:\", train[12][0].shape)\n",
    "print(\"train[i][1] is the ith image's label, such as:\", train[12][1])\n",
    "# here we visualize two of them\n",
    "plt.imshow(train[12][0].reshape([28, 28,]))\n",
    "plt.title(\"Label: %s\" % train[12][1])\n",
    "plt.figure()\n",
    "plt.imshow(train[42][0].reshape([28, 28,]))\n",
    "_ = plt.title(\"Label: %s\" % train[42][1])"
   ]
  },
  {
   "cell_type": "markdown",
   "metadata": {},
   "source": [
    "Next we will provide some boilerplate code and train a linear classifier as an example:"
   ]
  },
  {
   "cell_type": "code",
   "execution_count": 15,
   "metadata": {},
   "outputs": [
    {
     "name": "stdout",
     "output_type": "stream",
     "text": [
      "accuracy: 0.0625; loss: 2.265424966812134\n",
      "accuracy: 0.8475; loss: 0.6503112423419952\n",
      "accuracy: 0.8625; loss: 0.5036381196975708\n",
      "accuracy: 0.89; loss: 0.39635768175125125\n",
      "accuracy: 0.8875; loss: 0.4289308089017868\n",
      "accuracy: 0.89; loss: 0.43368895292282106\n",
      "accuracy: 0.92; loss: 0.3091962274909019\n",
      "accuracy: 0.9125; loss: 0.29694580227136613\n",
      "accuracy: 0.9125; loss: 0.321737767457962\n",
      "accuracy: 0.91; loss: 0.30233821630477903\n",
      "accuracy: 0.925; loss: 0.2845260500907898\n",
      "accuracy: 0.9075; loss: 0.328204962015152\n",
      "accuracy: 0.9025; loss: 0.3884363290667534\n",
      "accuracy: 0.915; loss: 0.3030911985039711\n",
      "accuracy: 0.9175; loss: 0.29948477044701577\n",
      "accuracy: 0.9125; loss: 0.33550431683659554\n",
      "accuracy: 0.9175; loss: 0.3027365100383759\n",
      "accuracy: 0.9175; loss: 0.28931305825710296\n",
      "accuracy: 0.92; loss: 0.2980104860663414\n",
      "accuracy: 0.915; loss: 0.28736786395311353\n",
      "accuracy: 0.9025; loss: 0.35545184314250944\n",
      "accuracy: 0.9125; loss: 0.381779730618\n",
      "accuracy: 0.9175; loss: 0.3009125703573227\n",
      "accuracy: 0.93; loss: 0.25323138654232025\n",
      "accuracy: 0.9225; loss: 0.2560597041249275\n",
      "accuracy: 0.9125; loss: 0.2831487014889717\n"
     ]
    }
   ],
   "source": [
    "def run(model, batchsize=16, num_epochs=2):\n",
    "    \n",
    "    optimizer = chainer.optimizers.Adam() # we will use chainer's Adam implementation instead of writing our own gradient based optimization\n",
    "    optimizer.setup(model)\n",
    "    \n",
    "    stats = defaultdict(lambda: deque(maxlen=25))\n",
    "    for epoch in range(num_epochs):\n",
    "        train_iter = chainer.iterators.SerialIterator(train, batchsize, repeat=False, shuffle=True)\n",
    "        test_iter = chainer.iterators.SerialIterator(test, batchsize, repeat=False, shuffle=False)\n",
    "        \n",
    "        for itr, batch in enumerate(train_iter):\n",
    "            xs = np.concatenate([datum[0][None, :] for datum in batch])\n",
    "            ys = np.array([datum[1] for datum in batch])\n",
    "\n",
    "            logits = model(xs)\n",
    "\n",
    "            loss = F.softmax_cross_entropy(logits, ys)\n",
    "            model.cleargrads()\n",
    "            loss.backward()\n",
    "            optimizer.update()\n",
    "            \n",
    "            # calculate stats\n",
    "            stats[\"loss\"].append(float(loss.data))\n",
    "            stats[\"accuracy\"].append(float((logits.data.argmax(1) == ys).sum() / batchsize))\n",
    "            if itr % 300 == 0:\n",
    "                print(\"; \".join(\"%s: %s\" % (k, np.mean(vs)) for k, vs in stats.items()))\n",
    "\n",
    "# try a simple linear model\n",
    "run(L.Linear(None, 10))"
   ]
  },
  {
   "cell_type": "markdown",
   "metadata": {},
   "source": [
    "Next we will try to improve performance by training an MLP instead. A partial implementation is provided for you to fill in:"
   ]
  },
  {
   "cell_type": "code",
   "execution_count": 16,
   "metadata": {},
   "outputs": [
    {
     "name": "stdout",
     "output_type": "stream",
     "text": [
      "accuracy: 0.25; loss: 2.3268930912017822\n",
      "accuracy: 0.9025; loss: 0.31901065409183504\n",
      "accuracy: 0.91; loss: 0.27640869438648225\n",
      "accuracy: 0.9475; loss: 0.16912694305181503\n",
      "accuracy: 0.955; loss: 0.13096103727817535\n",
      "accuracy: 0.95; loss: 0.16912726521492005\n",
      "accuracy: 0.9625; loss: 0.13213829189538956\n",
      "accuracy: 0.945; loss: 0.15710729897022246\n",
      "accuracy: 0.9575; loss: 0.1448572278022766\n",
      "accuracy: 0.965; loss: 0.14158836424350738\n",
      "accuracy: 0.96; loss: 0.1500784534215927\n",
      "accuracy: 0.97; loss: 0.12238862693309784\n",
      "accuracy: 0.9775; loss: 0.08988409042358399\n",
      "accuracy: 0.9675; loss: 0.12037903785705567\n",
      "accuracy: 0.9725; loss: 0.10254708856344223\n",
      "accuracy: 0.975; loss: 0.07785624444484711\n",
      "accuracy: 0.975; loss: 0.07214494824409484\n",
      "accuracy: 0.975; loss: 0.0746056991815567\n",
      "accuracy: 0.975; loss: 0.0946431416273117\n",
      "accuracy: 0.9725; loss: 0.10898152977228165\n",
      "accuracy: 0.965; loss: 0.10410954564809799\n",
      "accuracy: 0.9925; loss: 0.029479881525039674\n",
      "accuracy: 0.99; loss: 0.05647904694080353\n",
      "accuracy: 0.97; loss: 0.13856082171201706\n",
      "accuracy: 0.9875; loss: 0.04137080132961273\n",
      "accuracy: 0.97; loss: 0.12644407987594605\n"
     ]
    }
   ],
   "source": [
    "class MLP(chainer.Chain):\n",
    "\n",
    "    def __init__(self, n_units, n_out):\n",
    "        super(MLP, self).__init__()\n",
    "        with self.init_scope():\n",
    "            # the size of the inputs to each layer will be inferred\n",
    "            self.l1 = L.Linear(None, n_units)  # n_in -> n_units\n",
    "            self.l2 = L.Linear(None, n_units)  # n_units -> n_units\n",
    "            self.l3 = L.Linear(None, n_out)  # n_units -> n_out\n",
    "\n",
    "    def __call__(self, x):\n",
    "        # *** YOUR CODE HERE TO BUILD AN MLP W/ self.l1, self.l2, self.l3 ***\n",
    "        # \n",
    "        # Hint: you should make use of non-linearities / activation functions\n",
    "        #     https://docs.chainer.org/en/stable/reference/functions.html#activation-functions\n",
    "        out1 = self.l1(x)\n",
    "        active1 = F.relu(out1)\n",
    "        out2 = self.l2(active1)\n",
    "        active2 = F.relu(out2)\n",
    "        out3 = self.l3(active2)\n",
    "        \n",
    "        return out3\n",
    "        \n",
    "        raise NotImplementedError()\n",
    "run(MLP(200, 10))"
   ]
  },
  {
   "cell_type": "markdown",
   "metadata": {},
   "source": [
    "Next you should try to implement logging test loss and see if the model is overfitting."
   ]
  },
  {
   "cell_type": "code",
   "execution_count": 20,
   "metadata": {},
   "outputs": [
    {
     "name": "stdout",
     "output_type": "stream",
     "text": [
      "accuracy: 0.0; accuracy_test: 0.2125; loss_test: 2.2778570365905764; loss: 2.3412351608276367\n",
      "accuracy: 0.8975; accuracy_test: 0.8525; loss_test: 0.5060357323288918; loss: 0.3368566554784775\n",
      "accuracy: 0.9325; accuracy_test: 0.905; loss_test: 0.3458307707309723; loss: 0.2202051693201065\n",
      "accuracy: 0.9475; accuracy_test: 0.88; loss_test: 0.3615240168571472; loss: 0.16750268071889876\n",
      "accuracy: 0.9475; accuracy_test: 0.9125; loss_test: 0.29730596601963044; loss: 0.18777524322271347\n",
      "accuracy: 0.9525; accuracy_test: 0.93; loss_test: 0.23394653886556627; loss: 0.1683925759792328\n",
      "accuracy: 0.9425; accuracy_test: 0.905; loss_test: 0.30358148336410523; loss: 0.17008828550577162\n",
      "accuracy: 0.9575; accuracy_test: 0.91; loss_test: 0.2813606572151184; loss: 0.13583035588264467\n",
      "accuracy: 0.9625; accuracy_test: 0.93; loss_test: 0.22324303567409515; loss: 0.12445270955562591\n",
      "accuracy: 0.9675; accuracy_test: 0.9225; loss_test: 0.2605297261476517; loss: 0.13388246953487395\n",
      "accuracy: 0.96; accuracy_test: 0.925; loss_test: 0.20526543200016023; loss: 0.11557252675294877\n",
      "accuracy: 0.9675; accuracy_test: 0.9425; loss_test: 0.1628645607829094; loss: 0.09819616496562958\n",
      "accuracy: 0.9725; accuracy_test: 0.945; loss_test: 0.16510187566280365; loss: 0.10679225206375122\n",
      "accuracy: 0.9725; accuracy_test: 0.925; loss_test: 0.2525430113077164; loss: 0.10992995589971542\n",
      "accuracy: 0.965; accuracy_test: 0.9275; loss_test: 0.2145157301425934; loss: 0.07373862445354462\n",
      "accuracy: 0.965; accuracy_test: 0.9275; loss_test: 0.22015532433986665; loss: 0.09993007689714432\n",
      "accuracy: 0.975; accuracy_test: 0.945; loss_test: 0.2077721345424652; loss: 0.08692427337169648\n",
      "accuracy: 0.9875; accuracy_test: 0.9575; loss_test: 0.1276557180285454; loss: 0.05512739479541778\n",
      "accuracy: 0.9775; accuracy_test: 0.955; loss_test: 0.144920973777771; loss: 0.07747767001390457\n",
      "accuracy: 0.98; accuracy_test: 0.9275; loss_test: 0.2317930865287781; loss: 0.06752949178218842\n",
      "accuracy: 0.9875; accuracy_test: 0.9525; loss_test: 0.16760828822851181; loss: 0.04749505937099457\n",
      "accuracy: 0.975; accuracy_test: 0.95; loss_test: 0.20450384557247162; loss: 0.0746157294511795\n",
      "accuracy: 0.98; accuracy_test: 0.9525; loss_test: 0.17475711166858673; loss: 0.06920921385288238\n",
      "accuracy: 0.9625; accuracy_test: 0.9325; loss_test: 0.232386711537838; loss: 0.1090732455253601\n",
      "accuracy: 0.97; accuracy_test: 0.9525; loss_test: 0.1757033234834671; loss: 0.08645843088626862\n",
      "accuracy: 0.97; accuracy_test: 0.9325; loss_test: 0.23058109134435653; loss: 0.09466363310813904\n"
     ]
    }
   ],
   "source": [
    "def better_run(model, batchsize=16, num_epochs=2):\n",
    "\n",
    "    optimizer = chainer.optimizers.Adam() # we will use chainer's Adam implementation instead of writing our own gradient based optimization\n",
    "    optimizer.setup(model)\n",
    "    \n",
    "    stats = defaultdict(lambda: deque(maxlen=25))\n",
    "    for epoch in range(num_epochs):\n",
    "        train_iter = chainer.iterators.SerialIterator(train, batchsize, repeat=False, shuffle=True)\n",
    "        for itr, batch in enumerate(train_iter):\n",
    "            xs = np.concatenate([datum[0][None, :] for datum in batch])\n",
    "            ys = np.array([datum[1] for datum in batch])\n",
    "\n",
    "            logits = model(xs)\n",
    "\n",
    "            loss = F.softmax_cross_entropy(logits, ys)\n",
    "            model.cleargrads()\n",
    "            loss.backward()\n",
    "            optimizer.update()\n",
    "            \n",
    "            # calculate stats\n",
    "            stats[\"loss\"].append(float(loss.data))\n",
    "            stats[\"accuracy\"].append(float((logits.data.argmax(1) == ys).sum() / batchsize))\n",
    "            if itr % 300 == 0:\n",
    "                test_iter = chainer.iterators.SerialIterator(test, batchsize, repeat=False, shuffle=False)\n",
    "                # *** YOUR CODE implement logging of stats on test set ***\n",
    "                for itr, batch in enumerate(test_iter):\n",
    "                    xtest = np.concatenate([datum[0][None, :] for datum in batch])\n",
    "                    ytest = np.array([datum[1] for datum in batch])\n",
    "\n",
    "                    logits_test = model(xtest)\n",
    "\n",
    "                    loss_test = F.softmax_cross_entropy(logits_test, ytest)\n",
    "\n",
    "                    # calculate stats\n",
    "                    stats[\"loss_test\"].append(float(loss_test.data))\n",
    "                    stats[\"accuracy_test\"].append(float((logits_test.data.argmax(1) == ytest).sum() / batchsize))\n",
    "                print(\"; \".join(\"%s: %s\" % (k, np.mean(vs)) for k, vs in stats.items()))\n",
    "\n",
    "better_run(MLP(200, 10))"
   ]
  },
  {
   "cell_type": "markdown",
   "metadata": {},
   "source": [
    "Try different variants!\n",
    "\n",
    "- Does using a ConvNet improve performance (reduce overfitting?)\n",
    "- Try changing the learning rate and observe the effect\n",
    "- Does the model train if you give it correlated gradients? (consecutively sample many batches of \"1\", then many batches of \"2\", ... etc"
   ]
  }
 ],
 "metadata": {
  "kernelspec": {
   "display_name": "Python 3",
   "language": "python",
   "name": "python3"
  },
  "language_info": {
   "codemirror_mode": {
    "name": "ipython",
    "version": 3
   },
   "file_extension": ".py",
   "mimetype": "text/x-python",
   "name": "python",
   "nbconvert_exporter": "python",
   "pygments_lexer": "ipython3",
   "version": "3.5.4"
  }
 },
 "nbformat": 4,
 "nbformat_minor": 1
}
